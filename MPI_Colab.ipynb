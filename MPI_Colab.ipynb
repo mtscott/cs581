{
  "cells": [
    {
      "cell_type": "code",
      "execution_count": 1,
      "metadata": {
        "id": "muMijRp-KKqT"
      },
      "outputs": [
        {
          "name": "stdout",
          "output_type": "stream",
          "text": [
            "Writing main.cpp\n"
          ]
        }
      ],
      "source": [
        "%%writefile main.cpp\n",
        "#include <mpi.h>\n",
        "#include <iostream>\n",
        "\n",
        "int main(int argc, char** argv) {\n",
        "   MPI_Init(&argc, &argv);\n",
        "\n",
        "   int myid, numprocs;\n",
        "   MPI_Comm_size(MPI_COMM_WORLD, &numprocs);\n",
        "   MPI_Comm_rank(MPI_COMM_WORLD, &myid);\n",
        "\n",
        "   char processor_name[MPI_MAX_PROCESSOR_NAME];\n",
        "   int name_len;\n",
        "   MPI_Get_processor_name(processor_name, &name_len);\n",
        "\n",
        "   std::cout << \"Hello world from processor \" << processor_name << \", rank \" << myid << \" out of \" << numprocs << \" processors\" << std::endl;\n",
        "\n",
        "   MPI_Finalize();\n",
        "   return 0;\n",
        "}"
      ]
    },
    {
      "cell_type": "code",
      "execution_count": 2,
      "metadata": {
        "id": "ofe1qUMoKrDZ"
      },
      "outputs": [
        {
          "name": "stdout",
          "output_type": "stream",
          "text": [
            "Undefined symbols for architecture arm64:\n",
            "  \"std::__1::locale::use_facet(std::__1::locale::id&) const\", referenced from:\n",
            "      std::__1::ctype<char> const& std::__1::use_facet[abi:v15006]<std::__1::ctype<char>>(std::__1::locale const&) in main-1aba56.o\n",
            "  \"std::__1::ios_base::getloc() const\", referenced from:\n",
            "      std::__1::basic_ios<char, std::__1::char_traits<char>>::widen[abi:v15006](char) const in main-1aba56.o\n",
            "  \"std::__1::basic_string<char, std::__1::char_traits<char>, std::__1::allocator<char>>::__init(unsigned long, char)\", referenced from:\n",
            "      std::__1::basic_string<char, std::__1::char_traits<char>, std::__1::allocator<char>>::basic_string[abi:v15006](unsigned long, char) in main-1aba56.o\n",
            "  \"std::__1::basic_string<char, std::__1::char_traits<char>, std::__1::allocator<char>>::~basic_string()\", referenced from:\n",
            "      std::__1::ostreambuf_iterator<char, std::__1::char_traits<char>> std::__1::__pad_and_output<char, std::__1::char_traits<char>>(std::__1::ostreambuf_iterator<char, std::__1::char_traits<char>>, char const*, char const*, char const*, std::__1::ios_base&, char) in main-1aba56.o\n",
            "  \"std::__1::basic_ostream<char, std::__1::char_traits<char>>::put(char)\", referenced from:\n",
            "      std::__1::basic_ostream<char, std::__1::char_traits<char>>& std::__1::endl<char, std::__1::char_traits<char>>(std::__1::basic_ostream<char, std::__1::char_traits<char>>&) in main-1aba56.o\n",
            "  \"std::__1::basic_ostream<char, std::__1::char_traits<char>>::flush()\", referenced from:\n",
            "      std::__1::basic_ostream<char, std::__1::char_traits<char>>& std::__1::endl<char, std::__1::char_traits<char>>(std::__1::basic_ostream<char, std::__1::char_traits<char>>&) in main-1aba56.o\n",
            "  \"std::__1::basic_ostream<char, std::__1::char_traits<char>>::sentry::sentry(std::__1::basic_ostream<char, std::__1::char_traits<char>>&)\", referenced from:\n",
            "      std::__1::basic_ostream<char, std::__1::char_traits<char>>& std::__1::__put_character_sequence<char, std::__1::char_traits<char>>(std::__1::basic_ostream<char, std::__1::char_traits<char>>&, char const*, unsigned long) in main-1aba56.o\n",
            "  \"std::__1::basic_ostream<char, std::__1::char_traits<char>>::sentry::~sentry()\", referenced from:\n",
            "      std::__1::basic_ostream<char, std::__1::char_traits<char>>& std::__1::__put_character_sequence<char, std::__1::char_traits<char>>(std::__1::basic_ostream<char, std::__1::char_traits<char>>&, char const*, unsigned long) in main-1aba56.o\n",
            "  \"std::__1::basic_ostream<char, std::__1::char_traits<char>>::operator<<(int)\", referenced from:\n",
            "      _main in main-1aba56.o\n",
            "  \"std::__1::cout\", referenced from:\n",
            "      _main in main-1aba56.o\n",
            "  \"std::__1::ctype<char>::id\", referenced from:\n",
            "      std::__1::ctype<char> const& std::__1::use_facet[abi:v15006]<std::__1::ctype<char>>(std::__1::locale const&) in main-1aba56.o\n",
            "  \"std::__1::locale::~locale()\", referenced from:\n",
            "      std::__1::basic_ios<char, std::__1::char_traits<char>>::widen[abi:v15006](char) const in main-1aba56.o\n",
            "  \"std::__1::ios_base::__set_badbit_and_consider_rethrow()\", referenced from:\n",
            "      std::__1::basic_ostream<char, std::__1::char_traits<char>>& std::__1::__put_character_sequence<char, std::__1::char_traits<char>>(std::__1::basic_ostream<char, std::__1::char_traits<char>>&, char const*, unsigned long) in main-1aba56.o\n",
            "  \"std::__1::ios_base::clear(unsigned int)\", referenced from:\n",
            "      std::__1::ios_base::setstate[abi:v15006](unsigned int) in main-1aba56.o\n",
            "  \"std::terminate()\", referenced from:\n",
            "      ___clang_call_terminate in main-1aba56.o\n",
            "  \"___cxa_begin_catch\", referenced from:\n",
            "      std::__1::basic_ostream<char, std::__1::char_traits<char>>& std::__1::__put_character_sequence<char, std::__1::char_traits<char>>(std::__1::basic_ostream<char, std::__1::char_traits<char>>&, char const*, unsigned long) in main-1aba56.o\n",
            "      ___clang_call_terminate in main-1aba56.o\n",
            "  \"___cxa_call_unexpected\", referenced from:\n",
            "      std::__1::ostreambuf_iterator<char, std::__1::char_traits<char>>::ostreambuf_iterator[abi:v15006](std::__1::basic_ostream<char, std::__1::char_traits<char>>&) in main-1aba56.o\n",
            "  \"___cxa_end_catch\", referenced from:\n",
            "      std::__1::basic_ostream<char, std::__1::char_traits<char>>& std::__1::__put_character_sequence<char, std::__1::char_traits<char>>(std::__1::basic_ostream<char, std::__1::char_traits<char>>&, char const*, unsigned long) in main-1aba56.o\n",
            "  \"___gxx_personality_v0\", referenced from:\n",
            "      std::__1::basic_ostream<char, std::__1::char_traits<char>>& std::__1::__put_character_sequence<char, std::__1::char_traits<char>>(std::__1::basic_ostream<char, std::__1::char_traits<char>>&, char const*, unsigned long) in main-1aba56.o\n",
            "      std::__1::ostreambuf_iterator<char, std::__1::char_traits<char>> std::__1::__pad_and_output<char, std::__1::char_traits<char>>(std::__1::ostreambuf_iterator<char, std::__1::char_traits<char>>, char const*, char const*, char const*, std::__1::ios_base&, char) in main-1aba56.o\n",
            "      std::__1::ostreambuf_iterator<char, std::__1::char_traits<char>>::ostreambuf_iterator[abi:v15006](std::__1::basic_ostream<char, std::__1::char_traits<char>>&) in main-1aba56.o\n",
            "      std::__1::basic_ios<char, std::__1::char_traits<char>>::widen[abi:v15006](char) const in main-1aba56.o\n",
            "ld: symbol(s) not found for architecture arm64\n",
            "clang: \u001b[0;1;31merror: \u001b[0m\u001b[1mlinker command failed with exit code 1 (use -v to see invocation)\u001b[0m\n"
          ]
        }
      ],
      "source": [
        "!mpiCC main.cpp -o main.ex"
      ]
    },
    {
      "cell_type": "code",
      "execution_count": 4,
      "metadata": {
        "id": "p7hUqFo1KxI6"
      },
      "outputs": [
        {
          "name": "stdout",
          "output_type": "stream",
          "text": [
            "--------------------------------------------------------------------------\n",
            "prterun was unable to launch the specified application as it lacked\n",
            "permissions to execute an executable:\n",
            "\n",
            "   Executable: ./main.ex\n",
            "   Node: Mitchells-MacBook-Pro\n",
            "\n",
            "while attempting to start process rank 0.\n",
            "--------------------------------------------------------------------------\n"
          ]
        }
      ],
      "source": [
        "!mpirun --oversubscribe --allow-run-as-root -np 4 ./main.ex"
      ]
    },
    {
      "cell_type": "code",
      "execution_count": 5,
      "metadata": {
        "id": "nRAs8toGOAuk"
      },
      "outputs": [
        {
          "name": "stdout",
          "output_type": "stream",
          "text": [
            "Overwriting main.cpp\n"
          ]
        }
      ],
      "source": [
        "%%writefile main.cpp\n",
        "#include <mpi.h>\n",
        "#include <iostream>\n",
        "#include <unistd.h>\n",
        "#include <omp.h>\n",
        "\n",
        "int main(int argc, char** argv) {\n",
        "   MPI_Init(&argc, &argv);\n",
        "\n",
        "   int myid, numprocs;\n",
        "   MPI_Comm_size(MPI_COMM_WORLD, &numprocs);\n",
        "   MPI_Comm_rank(MPI_COMM_WORLD, &myid);\n",
        "\n",
        "   if(argc != 2)\n",
        "   {\n",
        "      omp_set_num_threads(2);\n",
        "   }\n",
        "   else\n",
        "   {\n",
        "      omp_set_num_threads(atoi(argv[1]));\n",
        "   }\n",
        "   if(myid == 0)\n",
        "   {\n",
        "      std::cout << \"Number of processors: \" << numprocs << std::endl;\n",
        "      std::cout << \"Number of threads: \" << omp_get_max_threads() << std::endl;\n",
        "   }\n",
        "\n",
        "   int *x = new int[numprocs];\n",
        "   for(int i = 0; i < numprocs; i++)\n",
        "   {\n",
        "      x[i] = i + myid * numprocs;\n",
        "   }\n",
        "\n",
        "   for(int id = 0 ; id < numprocs; id++)\n",
        "   {\n",
        "      if(myid == id)\n",
        "      {\n",
        "         #pragma omp parallel\n",
        "         {\n",
        "            int tid = omp_get_thread_num();\n",
        "            #pragma omp critical\n",
        "            {\n",
        "               std::cout << \"Processor \" << myid << \" thread \" << tid << \" has x = \";\n",
        "               for(int i = 0; i < numprocs; i++)\n",
        "               {\n",
        "                  std::cout << x[i] << \" \";\n",
        "               }\n",
        "               std::cout << std::endl;\n",
        "            }\n",
        "         }\n",
        "      }\n",
        "      MPI_Barrier(MPI_COMM_WORLD);\n",
        "   }\n",
        "\n",
        "   sleep(1);\n",
        "\n",
        "   for(int i = 0; i < numprocs; i++)\n",
        "   {\n",
        "      if(myid == i)\n",
        "      {\n",
        "         #pragma omp parallel\n",
        "         {\n",
        "            int tid = omp_get_thread_num();\n",
        "            #pragma omp critical\n",
        "            {\n",
        "               std::cout << \"x[0] on processor \" << myid << \" thread \" << tid << \" is \" << x[0] << std::endl;\n",
        "            }\n",
        "         }\n",
        "      }\n",
        "      MPI_Barrier(MPI_COMM_WORLD);\n",
        "   }\n",
        "\n",
        "   MPI_Finalize();\n",
        "   return 0;\n",
        "}"
      ]
    },
    {
      "cell_type": "code",
      "execution_count": null,
      "metadata": {
        "id": "8WfCuF_0OD28"
      },
      "outputs": [],
      "source": [
        "!mpiCC main.cpp -o main.ex -fopenmp"
      ]
    },
    {
      "cell_type": "code",
      "execution_count": null,
      "metadata": {
        "id": "Xwaq0sn0OFJz"
      },
      "outputs": [],
      "source": [
        "!mpirun --oversubscribe --allow-run-as-root -np 4 ./main.ex"
      ]
    },
    {
      "cell_type": "code",
      "execution_count": null,
      "metadata": {
        "id": "pOvqGLcIQ3On"
      },
      "outputs": [],
      "source": [
        "%%writefile main.cpp\n",
        "#include <mpi.h>\n",
        "#include <iostream>\n",
        "\n",
        "int main(int argc, char** argv) {\n",
        "   MPI_Init(&argc, &argv);\n",
        "\n",
        "   int myid, numprocs;\n",
        "   MPI_Comm_size(MPI_COMM_WORLD, &numprocs);\n",
        "   MPI_Comm_rank(MPI_COMM_WORLD, &myid);\n",
        "\n",
        "   int x = myid;\n",
        "\n",
        "   for(int id = 0 ; id < numprocs; id++)\n",
        "   {\n",
        "      if(myid == id)\n",
        "      {\n",
        "         std::cout << \"Before Bcast, processor \" << myid << \" has x = \" << x << std::endl;\n",
        "      }\n",
        "      MPI_Barrier(MPI_COMM_WORLD);\n",
        "   }\n",
        "\n",
        "   MPI_Bcast(&x, 1, MPI_INT, 0, MPI_COMM_WORLD);\n",
        "\n",
        "   for(int id = 0 ; id < numprocs; id++)\n",
        "   {\n",
        "      if(myid == id)\n",
        "      {\n",
        "         std::cout << \"After Bcast, processor \" << myid << \" has x = \" << x << std::endl;\n",
        "      }\n",
        "      MPI_Barrier(MPI_COMM_WORLD);\n",
        "   }\n",
        "\n",
        "   MPI_Finalize();\n",
        "   return 0;\n",
        "}"
      ]
    },
    {
      "cell_type": "code",
      "execution_count": null,
      "metadata": {
        "id": "eKnbJ6aXQ-D_"
      },
      "outputs": [],
      "source": [
        "!mpiCC main.cpp -o main.ex"
      ]
    },
    {
      "cell_type": "code",
      "execution_count": null,
      "metadata": {
        "id": "INBGySpXQ__3"
      },
      "outputs": [],
      "source": [
        "!mpirun --oversubscribe --allow-run-as-root -np 4 ./main.ex"
      ]
    },
    {
      "cell_type": "code",
      "execution_count": null,
      "metadata": {
        "id": "A2qB2kHFRYDN"
      },
      "outputs": [],
      "source": [
        "%%writefile main.cpp\n",
        "#include <mpi.h>\n",
        "#include <iostream>\n",
        "\n",
        "int main(int argc, char** argv) {\n",
        "   MPI_Init(&argc, &argv);\n",
        "\n",
        "   int myid, numprocs;\n",
        "   MPI_Comm_size(MPI_COMM_WORLD, &numprocs);\n",
        "   MPI_Comm_rank(MPI_COMM_WORLD, &myid);\n",
        "\n",
        "   int x = myid;\n",
        "   int sum = 10086;\n",
        "\n",
        "   for(int id = 0 ; id < numprocs; id++)\n",
        "   {\n",
        "      if(myid == id)\n",
        "      {\n",
        "         std::cout << \"Before Reduce, processor \" << myid << \" has x = \" << x << std::endl;\n",
        "      }\n",
        "      MPI_Barrier(MPI_COMM_WORLD);\n",
        "   }\n",
        "\n",
        "   MPI_Reduce(&x, &sum, 1, MPI_INT, MPI_SUM, 0, MPI_COMM_WORLD);\n",
        "\n",
        "   for(int id = 0 ; id < numprocs; id++)\n",
        "   {\n",
        "      if(myid == id)\n",
        "      {\n",
        "         std::cout << \"After Reduce, processor \" << myid << \" has sum = \" << sum << std::endl;\n",
        "      }\n",
        "      MPI_Barrier(MPI_COMM_WORLD);\n",
        "   }\n",
        "   MPI_Barrier(MPI_COMM_WORLD);\n",
        "\n",
        "   MPI_Finalize();\n",
        "\n",
        "   return 0;\n",
        "}"
      ]
    },
    {
      "cell_type": "code",
      "execution_count": null,
      "metadata": {
        "id": "AljUJMlFRbUr"
      },
      "outputs": [],
      "source": [
        "!mpiCC main.cpp -o main.ex"
      ]
    },
    {
      "cell_type": "code",
      "execution_count": null,
      "metadata": {
        "id": "z4kGK-JBRcCt"
      },
      "outputs": [],
      "source": [
        "!mpirun --oversubscribe --allow-run-as-root -np 4 ./main.ex"
      ]
    },
    {
      "cell_type": "code",
      "execution_count": null,
      "metadata": {
        "id": "CR5uovqhSVPV"
      },
      "outputs": [],
      "source": [
        "%%writefile main.cpp\n",
        "#include <mpi.h>\n",
        "#include <iostream>\n",
        "#include <unistd.h>\n",
        "\n",
        "int main(int argc, char** argv) {\n",
        "   MPI_Init(&argc, &argv);\n",
        "\n",
        "   int myid, numprocs;\n",
        "   MPI_Comm_size(MPI_COMM_WORLD, &numprocs);\n",
        "   MPI_Comm_rank(MPI_COMM_WORLD, &myid);\n",
        "\n",
        "   if(myid == 0)\n",
        "   {\n",
        "      std::cout << \"Number of processors: \" << numprocs << std::endl;\n",
        "   }\n",
        "\n",
        "   int *x = new int[numprocs];\n",
        "   for(int i = 0; i < numprocs; i++)\n",
        "   {\n",
        "      x[i] = i + myid * numprocs;\n",
        "   }\n",
        "\n",
        "   for(int id = 0 ; id < numprocs; id++)\n",
        "   {\n",
        "      if(myid == id)\n",
        "      {\n",
        "         std::cout << \"Before all-to-all broadcast, processor \" << myid << \" has x = \";\n",
        "         for(int i = 0; i < numprocs; i++)\n",
        "         {\n",
        "            std::cout << x[i] << \" \";\n",
        "         }\n",
        "         std::cout << std::endl;\n",
        "      }\n",
        "      MPI_Barrier(MPI_COMM_WORLD);\n",
        "   }\n",
        "\n",
        "   MPI_Alltoall(MPI_IN_PLACE, 1, MPI_INT, x, 1, MPI_INT, MPI_COMM_WORLD);\n",
        "\n",
        "   for(int id = 0 ; id < numprocs; id++)\n",
        "   {\n",
        "      if(myid == id)\n",
        "      {\n",
        "         std::cout << \"After all-to-all broadcast, processor \" << myid << \" has x = \";\n",
        "         for(int i = 0; i < numprocs; i++)\n",
        "         {\n",
        "            std::cout << x[i] << \" \";\n",
        "         }\n",
        "         std::cout << std::endl;\n",
        "      }\n",
        "      MPI_Barrier(MPI_COMM_WORLD);\n",
        "   }\n",
        "\n",
        "   MPI_Finalize();\n",
        "   return 0;\n",
        "}"
      ]
    },
    {
      "cell_type": "code",
      "execution_count": null,
      "metadata": {
        "id": "235ddUVJSYr0"
      },
      "outputs": [],
      "source": [
        "!mpiCC main.cpp -o main.ex"
      ]
    },
    {
      "cell_type": "code",
      "execution_count": null,
      "metadata": {
        "id": "2Q-uzbmXSam3"
      },
      "outputs": [],
      "source": [
        "!mpirun --oversubscribe --allow-run-as-root -np 4 ./main.ex"
      ]
    },
    {
      "cell_type": "code",
      "execution_count": null,
      "metadata": {
        "id": "WCkaM4mzY1Dk"
      },
      "outputs": [],
      "source": [
        "%%writefile main.cpp\n",
        "#include <mpi.h>\n",
        "#include <iostream>\n",
        "\n",
        "int main(int argc, char** argv) {\n",
        "   MPI_Init(&argc, &argv);\n",
        "\n",
        "   int myid, numprocs;\n",
        "   MPI_Comm_size(MPI_COMM_WORLD, &numprocs);\n",
        "   MPI_Comm_rank(MPI_COMM_WORLD, &myid);\n",
        "\n",
        "   int x = myid;\n",
        "   int sum = 10086;\n",
        "\n",
        "   for(int id = 0 ; id < numprocs; id++)\n",
        "   {\n",
        "      if(myid == id)\n",
        "      {\n",
        "         std::cout << \"Before Allreduce, processor \" << myid << \" has x = \" << x << std::endl;\n",
        "      }\n",
        "      MPI_Barrier(MPI_COMM_WORLD);\n",
        "   }\n",
        "\n",
        "   MPI_Allreduce(&x, &sum, 1, MPI_INT, MPI_SUM, MPI_COMM_WORLD);\n",
        "\n",
        "   for(int id = 0 ; id < numprocs; id++)\n",
        "   {\n",
        "      if(myid == id)\n",
        "      {\n",
        "         std::cout << \"After Allreduce, processor \" << myid << \" has sum = \" << sum << std::endl;\n",
        "      }\n",
        "      MPI_Barrier(MPI_COMM_WORLD);\n",
        "   }\n",
        "   MPI_Barrier(MPI_COMM_WORLD);\n",
        "\n",
        "   MPI_Finalize();\n",
        "\n",
        "   return 0;\n",
        "}"
      ]
    },
    {
      "cell_type": "code",
      "execution_count": null,
      "metadata": {
        "id": "HyeApy7nY4Vd"
      },
      "outputs": [],
      "source": [
        "!mpiCC main.cpp -o main.ex"
      ]
    },
    {
      "cell_type": "code",
      "execution_count": null,
      "metadata": {
        "id": "9LcCI-UcY4_S"
      },
      "outputs": [],
      "source": [
        "!mpirun --oversubscribe --allow-run-as-root -np 4 ./main.ex"
      ]
    },
    {
      "cell_type": "code",
      "execution_count": null,
      "metadata": {
        "id": "MgcXDFVLZBHm"
      },
      "outputs": [],
      "source": [
        "%%writefile main.cpp\n",
        "#include <mpi.h>\n",
        "#include <iostream>\n",
        "#include <unistd.h>\n",
        "\n",
        "int main(int argc, char** argv) {\n",
        "   MPI_Init(&argc, &argv);\n",
        "\n",
        "   int myid, numprocs;\n",
        "   MPI_Comm_size(MPI_COMM_WORLD, &numprocs);\n",
        "   MPI_Comm_rank(MPI_COMM_WORLD, &myid);\n",
        "\n",
        "   if(myid == 0)\n",
        "   {\n",
        "      std::cout << \"Number of processors: \" << numprocs << std::endl;\n",
        "   }\n",
        "\n",
        "   int *x = new int[numprocs];\n",
        "   for(int i = 0; i < numprocs; i++)\n",
        "   {\n",
        "      x[i] = i + myid * numprocs;\n",
        "   }\n",
        "\n",
        "   for(int id = 0 ; id < numprocs; id++)\n",
        "   {\n",
        "      if(myid == id)\n",
        "      {\n",
        "         std::cout << \"Before Scatter, processor \" << myid << \" has x = \";\n",
        "         for(int i = 0; i < numprocs; i++)\n",
        "         {\n",
        "            std::cout << x[i] << \" \";\n",
        "         }\n",
        "         std::cout << std::endl;\n",
        "      }\n",
        "      MPI_Barrier(MPI_COMM_WORLD);\n",
        "   }\n",
        "\n",
        "   MPI_Scatter(x, 1, MPI_INT, x, 1, MPI_INT, 0, MPI_COMM_WORLD);\n",
        "\n",
        "   for(int id = 0 ; id < numprocs; id++)\n",
        "   {\n",
        "      if(myid == id)\n",
        "      {\n",
        "         std::cout << \"After Scatter, processor \" << myid << \" has x = \";\n",
        "         for(int i = 0; i < numprocs; i++)\n",
        "         {\n",
        "            std::cout << x[i] << \" \";\n",
        "         }\n",
        "         std::cout << std::endl;\n",
        "      }\n",
        "      MPI_Barrier(MPI_COMM_WORLD);\n",
        "   }\n",
        "\n",
        "   MPI_Finalize();\n",
        "   return 0;\n",
        "}"
      ]
    },
    {
      "cell_type": "code",
      "execution_count": null,
      "metadata": {
        "id": "o2ejUN4KZE44"
      },
      "outputs": [],
      "source": [
        "!mpiCC main.cpp -o main.ex"
      ]
    },
    {
      "cell_type": "code",
      "execution_count": null,
      "metadata": {
        "id": "zavQYSFUZF5A"
      },
      "outputs": [],
      "source": [
        "!mpirun --oversubscribe --allow-run-as-root -np 4 ./main.ex"
      ]
    },
    {
      "cell_type": "code",
      "execution_count": null,
      "metadata": {
        "id": "DfZAlPefZJUK"
      },
      "outputs": [],
      "source": [
        "%%writefile main.cpp\n",
        "#include <mpi.h>\n",
        "#include <iostream>\n",
        "#include <unistd.h>\n",
        "\n",
        "int main(int argc, char** argv) {\n",
        "   MPI_Init(&argc, &argv);\n",
        "\n",
        "   int myid, numprocs;\n",
        "   MPI_Comm_size(MPI_COMM_WORLD, &numprocs);\n",
        "   MPI_Comm_rank(MPI_COMM_WORLD, &myid);\n",
        "\n",
        "   if(myid == 0)\n",
        "   {\n",
        "      std::cout << \"Number of processors: \" << numprocs << std::endl;\n",
        "   }\n",
        "\n",
        "   int *x = new int[numprocs];\n",
        "   for(int i = 0; i < numprocs; i++)\n",
        "   {\n",
        "      x[i] = i + myid * numprocs;\n",
        "   }\n",
        "\n",
        "   for(int id = 0 ; id < numprocs; id++)\n",
        "   {\n",
        "      if(myid == id)\n",
        "      {\n",
        "         std::cout << \"Before Gather, processor \" << myid << \" has x = \";\n",
        "         for(int i = 0; i < numprocs; i++)\n",
        "         {\n",
        "            std::cout << x[i] << \" \";\n",
        "         }\n",
        "         std::cout << std::endl;\n",
        "      }\n",
        "      MPI_Barrier(MPI_COMM_WORLD);\n",
        "   }\n",
        "\n",
        "   MPI_Gather(x, 1, MPI_INT, x, 1, MPI_INT, 0, MPI_COMM_WORLD);\n",
        "\n",
        "   for(int id = 0 ; id < numprocs; id++)\n",
        "   {\n",
        "      if(myid == id)\n",
        "      {\n",
        "         std::cout << \"After Gather, processor \" << myid << \" has x = \";\n",
        "         for(int i = 0; i < numprocs; i++)\n",
        "         {\n",
        "            std::cout << x[i] << \" \";\n",
        "         }\n",
        "         std::cout << std::endl;\n",
        "      }\n",
        "      MPI_Barrier(MPI_COMM_WORLD);\n",
        "   }\n",
        "\n",
        "   MPI_Finalize();\n",
        "   return 0;\n",
        "}"
      ]
    },
    {
      "cell_type": "code",
      "execution_count": null,
      "metadata": {
        "id": "uE0r8HRYZNJ5"
      },
      "outputs": [],
      "source": [
        "!mpiCC main.cpp -o main.ex"
      ]
    },
    {
      "cell_type": "code",
      "execution_count": null,
      "metadata": {
        "id": "QGNFWuJkZOvJ"
      },
      "outputs": [],
      "source": [
        "!mpirun --oversubscribe --allow-run-as-root -np 4 ./main.ex"
      ]
    }
  ],
  "metadata": {
    "colab": {
      "provenance": []
    },
    "kernelspec": {
      "display_name": "Python 3",
      "name": "python3"
    },
    "language_info": {
      "codemirror_mode": {
        "name": "ipython",
        "version": 3
      },
      "file_extension": ".py",
      "mimetype": "text/x-python",
      "name": "python",
      "nbconvert_exporter": "python",
      "pygments_lexer": "ipython3",
      "version": "3.12.5"
    }
  },
  "nbformat": 4,
  "nbformat_minor": 0
}
