{
  "cells": [
    {
      "cell_type": "code",
      "execution_count": 1,
      "metadata": {
        "id": "aLKZsxA-bPZg"
      },
      "outputs": [],
      "source": [
        "import numpy as np\n",
        "import time\n",
        "\n",
        "n = 10000\n",
        "ntests = 10\n",
        "A = np.random.rand(n, n)\n",
        "x = np.random.rand(n)"
      ]
    },
    {
      "cell_type": "code",
      "execution_count": 2,
      "metadata": {
        "colab": {
          "base_uri": "https://localhost:8080/"
        },
        "id": "VoXaTHrlbUxU",
        "outputId": "aa9e32d0-a8e0-4969-f9f0-8000fa8dc0fc"
      },
      "outputs": [
        {
          "name": "stdout",
          "output_type": "stream",
          "text": [
            "Is A C-contiguous? True\n",
            "Is x C-contiguous? True\n",
            "Is B C-contiguous? False\n"
          ]
        }
      ],
      "source": [
        "print(\"Is A C-contiguous?\", A.flags['C_CONTIGUOUS'])\n",
        "print(\"Is x C-contiguous?\", x.flags['C_CONTIGUOUS'])\n",
        "B = A.T\n",
        "print(\"Is B C-contiguous?\", B.flags['C_CONTIGUOUS'])"
      ]
    },
    {
      "cell_type": "code",
      "execution_count": 3,
      "metadata": {
        "colab": {
          "base_uri": "https://localhost:8080/"
        },
        "id": "OdYdxEdDb5qZ",
        "outputId": "eb43558b-9e3e-42b4-be63-9cab7a3754bf"
      },
      "outputs": [
        {
          "name": "stdout",
          "output_type": "stream",
          "text": [
            "Time for loop 1: 0.8376131057739258\n"
          ]
        }
      ],
      "source": [
        "y_1 = np.zeros(n)\n",
        "s_t = time.time()\n",
        "for j in range(ntests):\n",
        "  for i in range(n):\n",
        "    y_1[i] = y_1[i] + np.dot(A[i,:], x)\n",
        "e_t = time.time()\n",
        "print(\"Time for loop 1:\", e_t - s_t)"
      ]
    },
    {
      "cell_type": "code",
      "execution_count": 4,
      "metadata": {
        "colab": {
          "base_uri": "https://localhost:8080/"
        },
        "id": "tjZ-PoHkcV9m",
        "outputId": "a29fe0a7-9a49-4265-8807-9ac16d1630f5"
      },
      "outputs": [
        {
          "name": "stdout",
          "output_type": "stream",
          "text": [
            "Time for loop 2: 2.866724967956543\n"
          ]
        }
      ],
      "source": [
        "y_2 = np.zeros(n)\n",
        "s_t = time.time()\n",
        "for j in range(ntests):\n",
        "  for i in range(n):\n",
        "    y_2 = y_2 + A[:, i] * x[i]\n",
        "e_t = time.time()\n",
        "print(\"Time for loop 2:\", e_t - s_t)"
      ]
    },
    {
      "cell_type": "code",
      "execution_count": 5,
      "metadata": {
        "colab": {
          "base_uri": "https://localhost:8080/"
        },
        "id": "PyKVXdKkiZiC",
        "outputId": "c0b28464-78fc-40a4-c99b-3d1a6dc3f52d"
      },
      "outputs": [
        {
          "name": "stdout",
          "output_type": "stream",
          "text": [
            "Time for np.dot: 0.23108983039855957\n"
          ]
        }
      ],
      "source": [
        "y_3 = np.zeros(n)\n",
        "s_t = time.time()\n",
        "for j in range(ntests):\n",
        "  y_3 = y_3 + np.dot(A, x)\n",
        "e_t = time.time()\n",
        "print(\"Time for np.dot:\", e_t - s_t)"
      ]
    },
    {
      "cell_type": "code",
      "execution_count": 6,
      "metadata": {
        "colab": {
          "base_uri": "https://localhost:8080/"
        },
        "id": "8GZ5kiC_cqhg",
        "outputId": "80549860-318e-4f55-b03c-67279d33f1e8"
      },
      "outputs": [
        {
          "name": "stdout",
          "output_type": "stream",
          "text": [
            "3.640922541758767e-08\n",
            "3.841452400350446e-09\n"
          ]
        }
      ],
      "source": [
        "print(np.linalg.norm(y_1 - y_2))\n",
        "print(np.linalg.norm(y_1 - y_3))"
      ]
    },
    {
      "cell_type": "code",
      "execution_count": 7,
      "metadata": {
        "colab": {
          "base_uri": "https://localhost:8080/"
        },
        "id": "dJs-xjb4cwW9",
        "outputId": "d7b2573e-0304-4a2e-cfbb-354d274dba5b"
      },
      "outputs": [
        {
          "name": "stdout",
          "output_type": "stream",
          "text": [
            "Time for loop 1: 2.351065158843994\n"
          ]
        }
      ],
      "source": [
        "y_1 = np.zeros(n)\n",
        "s_t = time.time()\n",
        "for j in range(ntests):\n",
        "  for i in range(n):\n",
        "    y_1[i] = y_1[i] + np.dot(B[i,:], x)\n",
        "e_t = time.time()\n",
        "print(\"Time for loop 1:\", e_t - s_t)"
      ]
    },
    {
      "cell_type": "code",
      "execution_count": 8,
      "metadata": {
        "colab": {
          "base_uri": "https://localhost:8080/"
        },
        "id": "beVuwzZPcyTL",
        "outputId": "e6949dbe-07a9-424c-8a41-363f88a1aebb"
      },
      "outputs": [
        {
          "name": "stdout",
          "output_type": "stream",
          "text": [
            "Time for loop 2: 0.7856607437133789\n"
          ]
        }
      ],
      "source": [
        "y_2 = np.zeros(n)\n",
        "s_t = time.time()\n",
        "for j in range(ntests):\n",
        "  for i in range(n):\n",
        "    y_2 = y_2 + B[:, i] * x[i]\n",
        "e_t = time.time()\n",
        "print(\"Time for loop 2:\", e_t - s_t)"
      ]
    },
    {
      "cell_type": "code",
      "execution_count": 9,
      "metadata": {
        "colab": {
          "base_uri": "https://localhost:8080/"
        },
        "id": "7zaaPO_Iiq8p",
        "outputId": "f74aa822-c444-41fe-e93a-b8aeaf30ce86"
      },
      "outputs": [
        {
          "name": "stdout",
          "output_type": "stream",
          "text": [
            "0.2588777542114258\n"
          ]
        }
      ],
      "source": [
        "y_3 = np.zeros(n)\n",
        "s_t = time.time()\n",
        "for j in range(ntests):\n",
        "  y_3 = y_3 + np.dot(B, x)\n",
        "e_t = time.time()\n",
        "print(e_t - s_t)"
      ]
    },
    {
      "cell_type": "code",
      "execution_count": 10,
      "metadata": {
        "colab": {
          "base_uri": "https://localhost:8080/"
        },
        "id": "8E18rMbNcz3n",
        "outputId": "c40f6d22-b769-49a6-fa3c-d76ed4b9f9cf"
      },
      "outputs": [
        {
          "name": "stdout",
          "output_type": "stream",
          "text": [
            "3.6691966394805965e-08\n",
            "0.0\n"
          ]
        }
      ],
      "source": [
        "print(np.linalg.norm(y_1 - y_2))\n",
        "print(np.linalg.norm(y_1 - y_3))"
      ]
    }
  ],
  "metadata": {
    "colab": {
      "provenance": []
    },
    "kernelspec": {
      "display_name": "Python 3",
      "name": "python3"
    },
    "language_info": {
      "codemirror_mode": {
        "name": "ipython",
        "version": 3
      },
      "file_extension": ".py",
      "mimetype": "text/x-python",
      "name": "python",
      "nbconvert_exporter": "python",
      "pygments_lexer": "ipython3",
      "version": "3.12.5"
    }
  },
  "nbformat": 4,
  "nbformat_minor": 0
}
